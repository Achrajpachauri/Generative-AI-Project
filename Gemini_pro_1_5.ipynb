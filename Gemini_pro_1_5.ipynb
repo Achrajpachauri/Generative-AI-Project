{
  "nbformat": 4,
  "nbformat_minor": 0,
  "metadata": {
    "colab": {
      "provenance": [],
      "authorship_tag": "ABX9TyOl0KE2hMSN7k2EeVeIhOrl",
      "include_colab_link": true
    },
    "kernelspec": {
      "name": "python3",
      "display_name": "Python 3"
    },
    "language_info": {
      "name": "python"
    }
  },
  "cells": [
    {
      "cell_type": "markdown",
      "metadata": {
        "id": "view-in-github",
        "colab_type": "text"
      },
      "source": [
        "<a href=\"https://colab.research.google.com/github/Achrajpachauri/Generative-AI-Project/blob/main/Gemini_pro_1_5.ipynb\" target=\"_parent\"><img src=\"https://colab.research.google.com/assets/colab-badge.svg\" alt=\"Open In Colab\"/></a>"
      ]
    },
    {
      "cell_type": "code",
      "execution_count": 1,
      "metadata": {
        "colab": {
          "base_uri": "https://localhost:8080/"
        },
        "id": "VOKD1MzGbQOM",
        "outputId": "1997175d-9fa8-453e-ec94-8b780241cde6"
      },
      "outputs": [
        {
          "output_type": "stream",
          "name": "stdout",
          "text": [
            "\u001b[2K     \u001b[90m━━━━━━━━━━━━━━━━━━━━━━━━━━━━━━━━━━━━━━━━\u001b[0m \u001b[32m150.7/150.7 kB\u001b[0m \u001b[31m1.8 MB/s\u001b[0m eta \u001b[36m0:00:00\u001b[0m\n",
            "\u001b[2K     \u001b[90m━━━━━━━━━━━━━━━━━━━━━━━━━━━━━━━━━━━━━━━━\u001b[0m \u001b[32m677.8/677.8 kB\u001b[0m \u001b[31m9.5 MB/s\u001b[0m eta \u001b[36m0:00:00\u001b[0m\n",
            "\u001b[?25h"
          ]
        }
      ],
      "source": [
        "!pip install -q -U google-generativeai"
      ]
    },
    {
      "cell_type": "code",
      "source": [
        "# Import the Python SDK\n",
        "import google.generativeai as genai\n",
        "# Used to securely store your API key\n",
        "from google.colab import userdata\n",
        "\n",
        "GOOGLE_API_KEY=userdata.get('google_api')\n",
        "genai.configure(api_key=GOOGLE_API_KEY)"
      ],
      "metadata": {
        "id": "Ai03IYd6bbKa"
      },
      "execution_count": 2,
      "outputs": []
    },
    {
      "cell_type": "code",
      "source": [
        "model = genai.GenerativeModel('gemini-1.5-pro-latest')\n",
        "response = model.generate_content(\"The opposite of hot is\")\n",
        "print(response.text)"
      ],
      "metadata": {
        "colab": {
          "base_uri": "https://localhost:8080/",
          "height": 34
        },
        "id": "OUPMTQOBbw1L",
        "outputId": "d5cfb7da-17f1-4114-afbf-8659714d4258"
      },
      "execution_count": 3,
      "outputs": [
        {
          "output_type": "stream",
          "name": "stdout",
          "text": [
            "cold\n"
          ]
        }
      ]
    },
    {
      "cell_type": "code",
      "source": [
        "!wget https://download.blender.org/peach/bigbuckbunny_movies/BigBuckBunny_320x180.mp4"
      ],
      "metadata": {
        "colab": {
          "base_uri": "https://localhost:8080/"
        },
        "id": "hDs24PQDc5Ii",
        "outputId": "2ce0c562-0293-485f-dbac-578eb396bf9e"
      },
      "execution_count": 4,
      "outputs": [
        {
          "output_type": "stream",
          "name": "stdout",
          "text": [
            "--2024-05-15 08:52:06--  https://download.blender.org/peach/bigbuckbunny_movies/BigBuckBunny_320x180.mp4\n",
            "Resolving download.blender.org (download.blender.org)... 104.22.64.163, 172.67.14.163, 104.22.65.163, ...\n",
            "Connecting to download.blender.org (download.blender.org)|104.22.64.163|:443... connected.\n",
            "HTTP request sent, awaiting response... 200 OK\n",
            "Length: 64657027 (62M) [video/mp4]\n",
            "Saving to: ‘BigBuckBunny_320x180.mp4’\n",
            "\n",
            "BigBuckBunny_320x18 100%[===================>]  61.66M  4.53MB/s    in 37s     \n",
            "\n",
            "2024-05-15 08:52:44 (1.66 MB/s) - ‘BigBuckBunny_320x180.mp4’ saved [64657027/64657027]\n",
            "\n"
          ]
        }
      ]
    },
    {
      "cell_type": "code",
      "source": [
        "video_name  = 'BigBuckBunny_320x180.mp4'\n",
        "\n",
        "video = genai.upload_file(path= video_name)\n",
        "\n"
      ],
      "metadata": {
        "id": "ZdLFuf60dI-1"
      },
      "execution_count": 5,
      "outputs": []
    },
    {
      "cell_type": "code",
      "source": [
        "# Create the prompt.\n",
        "prompt = \"Describe this video.\"\n",
        "model = genai.GenerativeModel(model_name=\"models/gemini-1.5-pro-latest\")\n",
        "response = model.generate_content([prompt, video],request_options={\"timeout\": 600})\n",
        "print(response.text)"
      ],
      "metadata": {
        "colab": {
          "base_uri": "https://localhost:8080/",
          "height": 245
        },
        "id": "PdPnZJwyd79B",
        "outputId": "71b0f607-3d6a-45af-838b-ea4e38684ca5"
      },
      "execution_count": 10,
      "outputs": [
        {
          "output_type": "stream",
          "name": "stdout",
          "text": [
            "The video starts with a scene of a forest with a pink cloud in the sky and the sun shining behind it. The camera pans down to a river bank with different types of flowers on it. A purple plump bird perches on a branch of a tree and makes a sound as if to clear its throat, then flies away. The words, \"THE PEACH OPEN MOVIE PROJECT PRESENTS\" appear written on the screen. \n",
            "\n",
            "The scene changes to a forest with a rabbit hole in the middle of it. The words, \"BIG BUCK BUNNY\" appear written on the screen. Then a big grey rabbit yawns and stretches as it comes out of the rabbit hole. The rabbit walks and admires a butterfly in the sky and flowers on the ground. It comes across a fallen red apple, picks it up and admires it. A squirrel with big eyes hides behind a tree as it watches the rabbit. The rabbit lies down on the grass with its arms wide open. \n",
            "\n",
            "The squirrel appears from behind the tree accompanied by another squirrel with a big tail and a grey chubby rat holding a brown nut. The first squirrel throws the red apple at the big rabbit, who gets irritated and throws a tantrum,  pulling down a vine, then breaking a branch off a tree and making a slingshot. The squirrel runs away and sits on the branch of a tree. The rabbit uses the slingshot to shoot the apple at the squirrel, who jumps off the branch and glides away. The rabbit shoots many arrows that miss the squirrel but get stuck on a tree in the background. The squirrel picks the red apple and places it on the arrows stuck on the tree then glides back to its friend, leaving the rabbit staring at it in anger.\n",
            "\n",
            "The squirrel goes to the chubby grey rat, who is still admiring its nut, and hits its head with a stone, knocking it down. The rat gets up, holding its head, and runs after its friends. The big rabbit gets angry, walks to the forest, breaks off another vine and makes a bow and arrow. It shoots an arrow towards the fleeing animals, who run and hide behind a log. The arrow hits the log causing it to roll away, exposing the animals to the rabbit. The rabbit shoots another arrow that pierces through the vine tied around a big stone, causing the stone to fall on the ground with a loud thud, scaring the animals.\n",
            "\n",
            "The rabbit, amused by the reaction from the animals, makes a rope out of the vine, ties it on a tree, swings the rope and ties it to the ground to make a tripwire. It hides behind a tree as the animals slowly approach the tripwire. The squirrel, in a hurry, trips over the rope causing its friends to fall on it. The rabbit comes out laughing. The squirrel, irritated by the rabbit's laughter, jumps on the rabbit's face, pulls down its eyelids and runs away. The rabbit pulls up its eyelids and realizes the squirrel has drawn black circles under its eyes. The squirrel and its friends run as the big rabbit pursues them in anger. The squirrel climbs a tree and starts gliding, going up and down, avoiding the arrows that the rabbit shoots. The squirrel comes to a peach tree and throws a peach down, which falls in the middle of the arrows that the rabbit has shot. Then it glides down and pees on the rabbit, causing a fire to break out. The rabbit runs away, angry. The scene ends with the credits. \n",
            "\n",
            "A short scene follows, where the squirrel and the plump purple bird are flying,  The bird lands on top of the squirrel's outstretched skin, causing it to fall. The bird then lands on a tree branch, and the squirrel hangs on a branch below. They stare at each other in silence and the scene ends. \n",
            "\n"
          ]
        }
      ]
    }
  ]
}